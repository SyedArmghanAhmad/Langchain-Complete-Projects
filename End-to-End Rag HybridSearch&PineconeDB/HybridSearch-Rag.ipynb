{
 "cells": [
  {
   "cell_type": "code",
   "execution_count": 5,
   "metadata": {},
   "outputs": [],
   "source": [
    "from dotenv import load_dotenv\n",
    "import os\n",
    "load_dotenv()\n",
    "\n",
    "os.environ[\"GROQ_API_KEY\"]=os.getenv(\"GROQ_API_KEY\")\n",
    "api_key_pine = os.environ[\"PINE_API_KEY\"]"
   ]
  },
  {
   "cell_type": "code",
   "execution_count": 6,
   "metadata": {},
   "outputs": [],
   "source": [
    "from langchain_community.retrievers import PineconeHybridSearchRetriever"
   ]
  },
  {
   "cell_type": "code",
   "execution_count": 4,
   "metadata": {},
   "outputs": [
    {
     "name": "stderr",
     "output_type": "stream",
     "text": [
      "e:\\Langchain-Complete\\venv\\lib\\site-packages\\pinecone\\data\\index.py:1: TqdmWarning: IProgress not found. Please update jupyter and ipywidgets. See https://ipywidgets.readthedocs.io/en/stable/user_install.html\n",
      "  from tqdm.autonotebook import tqdm\n"
     ]
    }
   ],
   "source": [
    "from pinecone import Pinecone, ServerlessSpec\n",
    "index_name = \"langchain-hybrid-search-pinecone\""
   ]
  },
  {
   "cell_type": "code",
   "execution_count": 15,
   "metadata": {},
   "outputs": [
    {
     "data": {
      "text/plain": [
       "<pinecone.data.index.Index at 0x212940d8490>"
      ]
     },
     "execution_count": 15,
     "metadata": {},
     "output_type": "execute_result"
    }
   ],
   "source": [
    "index=pc.Index(index_name)\n",
    "index"
   ]
  },
  {
   "cell_type": "code",
   "execution_count": 7,
   "metadata": {},
   "outputs": [],
   "source": [
    "pc=Pinecone(api_key=api_key_pine)\n",
    "#create the index\n",
    "if index_name not in pc.list_indexes().names():\n",
    "    pc.create_index(name=index_name,\n",
    "    dimension=384, #dimensions of dense vectors\n",
    "    metric='dotproduct', # spars value supported only for dot product\n",
    "    spec=ServerlessSpec(cloud='aws',region=\"us-east-1\")\n",
    "    )"
   ]
  },
  {
   "cell_type": "code",
   "execution_count": 8,
   "metadata": {},
   "outputs": [],
   "source": [
    "from langchain.embeddings.huggingface import HuggingFaceEmbeddings\n"
   ]
  },
  {
   "cell_type": "code",
   "execution_count": 9,
   "metadata": {},
   "outputs": [
    {
     "name": "stderr",
     "output_type": "stream",
     "text": [
      "e:\\Langchain-Complete\\venv\\lib\\site-packages\\transformers\\utils\\hub.py:128: FutureWarning: Using `TRANSFORMERS_CACHE` is deprecated and will be removed in v5 of Transformers. Use `HF_HOME` instead.\n",
      "  warnings.warn(\n"
     ]
    },
    {
     "data": {
      "text/plain": [
       "HuggingFaceEmbeddings(client=SentenceTransformer(\n",
       "  (0): Transformer({'max_seq_length': 256, 'do_lower_case': False}) with Transformer model: BertModel \n",
       "  (1): Pooling({'word_embedding_dimension': 384, 'pooling_mode_cls_token': False, 'pooling_mode_mean_tokens': True, 'pooling_mode_max_tokens': False, 'pooling_mode_mean_sqrt_len_tokens': False, 'pooling_mode_weightedmean_tokens': False, 'pooling_mode_lasttoken': False, 'include_prompt': True})\n",
       "  (2): Normalize()\n",
       "), model_name='all-MiniLM-L6-v2', cache_folder=None, model_kwargs={}, encode_kwargs={}, multi_process=False, show_progress=False)"
      ]
     },
     "execution_count": 9,
     "metadata": {},
     "output_type": "execute_result"
    }
   ],
   "source": [
    "embeddings =HuggingFaceEmbeddings(model_name=\"all-MiniLM-L6-v2\")\n",
    "embeddings"
   ]
  },
  {
   "cell_type": "code",
   "execution_count": 10,
   "metadata": {},
   "outputs": [
    {
     "data": {
      "text/plain": [
       "<pinecone_text.sparse.bm25_encoder.BM25Encoder at 0x21293efb7f0>"
      ]
     },
     "execution_count": 10,
     "metadata": {},
     "output_type": "execute_result"
    }
   ],
   "source": [
    "from pinecone_text.sparse import  BM25Encoder\n",
    "bm25encoder = BM25Encoder().default()\n",
    "bm25encoder"
   ]
  },
  {
   "cell_type": "code",
   "execution_count": 12,
   "metadata": {},
   "outputs": [
    {
     "name": "stderr",
     "output_type": "stream",
     "text": [
      "[nltk_data] Downloading package stopwords to\n",
      "[nltk_data]     C:\\Users\\Armghan/nltk_data...\n",
      "[nltk_data]   Package stopwords is already up-to-date!\n",
      "[nltk_data] Downloading package punkt to C:\\Users\\Armghan/nltk_data...\n",
      "[nltk_data]   Package punkt is already up-to-date!\n",
      "[nltk_data] Downloading package punkt_tab to\n",
      "[nltk_data]     C:\\Users\\Armghan/nltk_data...\n",
      "[nltk_data]   Unzipping tokenizers\\punkt_tab.zip.\n"
     ]
    },
    {
     "data": {
      "text/plain": [
       "True"
      ]
     },
     "execution_count": 12,
     "metadata": {},
     "output_type": "execute_result"
    }
   ],
   "source": [
    "import nltk\n",
    "nltk.download('stopwords')\n",
    "nltk.download('punkt')\n",
    "nltk.download('punkt_tab')  # Required for tokenization\n"
   ]
  },
  {
   "cell_type": "code",
   "execution_count": 10,
   "metadata": {},
   "outputs": [
    {
     "name": "stdout",
     "output_type": "stream",
     "text": [
      "Stopwords loaded successfully: 179\n"
     ]
    }
   ],
   "source": [
    "from nltk.corpus import stopwords\n",
    "stop_words = set(stopwords.words('english'))\n",
    "print(\"Stopwords loaded successfully:\", len(stop_words))\n"
   ]
  },
  {
   "cell_type": "code",
   "execution_count": 13,
   "metadata": {},
   "outputs": [
    {
     "name": "stderr",
     "output_type": "stream",
     "text": [
      "[nltk_data] Downloading package stopwords to\n",
      "[nltk_data]     C:/Users/Armghan/nltk_data...\n",
      "[nltk_data]   Package stopwords is already up-to-date!\n",
      "[nltk_data] Downloading package punkt to C:/Users/Armghan/nltk_data...\n",
      "[nltk_data]   Package punkt is already up-to-date!\n",
      "100%|██████████| 6/6 [00:00<00:00, 3007.75it/s]"
     ]
    },
    {
     "name": "stdout",
     "output_type": "stream",
     "text": [
      "BM25 Encoder successfully fitted and loaded!\n"
     ]
    },
    {
     "name": "stderr",
     "output_type": "stream",
     "text": [
      "\n"
     ]
    }
   ],
   "source": [
    "# First ensure NLTK data is properly downloaded\n",
    "import nltk\n",
    "\n",
    "# Set custom download path (use forward slashes to avoid escape issues)\n",
    "nltk_dir = \"C:/Users/Armghan/nltk_data\"\n",
    "os.makedirs(nltk_dir, exist_ok=True)\n",
    "\n",
    "# Download required NLTK data with explicit path\n",
    "nltk.download('stopwords', download_dir=nltk_dir)\n",
    "nltk.download('punkt', download_dir=nltk_dir)\n",
    "\n",
    "# Add to NLTK path and set environment variable\n",
    "nltk.data.path.append(nltk_dir)\n",
    "os.environ['NLTK_DATA'] = nltk_dir\n",
    "\n",
    "# Now proceed with BM25Encoder\n",
    "from pinecone_text.sparse import BM25Encoder\n",
    "\n",
    "bm25encoder = BM25Encoder()\n",
    "\n",
    "sentences = [\n",
    "    \"The quick brown fox jumps over the lazy dog.\",\n",
    "    \"The dog barks at the fox.\",\n",
    "    \"The fox runs away from the dog.\",\n",
    "    \"The fox and the dog play fetch.\",\n",
    "    \"The fox and the dog play fetch in the park.\",\n",
    "    \"The fox and the dog play fetch in the park with a ball.\"\n",
    "]\n",
    "\n",
    "# Verify NLTK resources are accessible\n",
    "try:\n",
    "    from nltk.corpus import stopwords\n",
    "    stopwords.words('english')\n",
    "    nltk.word_tokenize(\"test sentence\")\n",
    "except LookupError as e:\n",
    "    print(f\"NLTK resource missing: {e}\")\n",
    "    # If still failing, use temporary directory\n",
    "    nltk.download('stopwords')\n",
    "    nltk.download('punkt')\n",
    "\n",
    "# Now fit the encoder\n",
    "bm25encoder.fit(sentences)\n",
    "bm25encoder.dump(\"bm25encoder_values.json\")\n",
    "bm25encoder = BM25Encoder().load(\"bm25encoder_values.json\")\n",
    "print(\"BM25 Encoder successfully fitted and loaded!\")"
   ]
  },
  {
   "cell_type": "code",
   "execution_count": 17,
   "metadata": {},
   "outputs": [],
   "source": [
    "retriever = PineconeHybridSearchRetriever(embeddings=embeddings, sparse_encoder=bm25encoder,index=index)"
   ]
  },
  {
   "cell_type": "code",
   "execution_count": 18,
   "metadata": {},
   "outputs": [
    {
     "data": {
      "text/plain": [
       "PineconeHybridSearchRetriever(embeddings=HuggingFaceEmbeddings(client=SentenceTransformer(\n",
       "  (0): Transformer({'max_seq_length': 256, 'do_lower_case': False}) with Transformer model: BertModel \n",
       "  (1): Pooling({'word_embedding_dimension': 384, 'pooling_mode_cls_token': False, 'pooling_mode_mean_tokens': True, 'pooling_mode_max_tokens': False, 'pooling_mode_mean_sqrt_len_tokens': False, 'pooling_mode_weightedmean_tokens': False, 'pooling_mode_lasttoken': False, 'include_prompt': True})\n",
       "  (2): Normalize()\n",
       "), model_name='all-MiniLM-L6-v2', cache_folder=None, model_kwargs={}, encode_kwargs={}, multi_process=False, show_progress=False), sparse_encoder=<pinecone_text.sparse.bm25_encoder.BM25Encoder object at 0x00000212ABC37760>, index=<pinecone.data.index.Index object at 0x00000212940D8490>)"
      ]
     },
     "execution_count": 18,
     "metadata": {},
     "output_type": "execute_result"
    }
   ],
   "source": [
    "retriever"
   ]
  },
  {
   "cell_type": "code",
   "execution_count": 19,
   "metadata": {},
   "outputs": [
    {
     "name": "stderr",
     "output_type": "stream",
     "text": [
      "100%|██████████| 1/1 [00:04<00:00,  4.87s/it]\n"
     ]
    }
   ],
   "source": [
    "retriever.add_texts([\n",
    "    \"The quick brown fox jumps over the lazy dog.\",\n",
    "    \"The dog barks at the fox.\",\n",
    "    \"The fox runs away from the dog.\",\n",
    "    \"The fox and the dog play fetch.\",\n",
    "    \"The fox and the dog play fetch in the park.\",\n",
    "    \"The fox and the dog play fetch in the park with a ball.\"\n",
    "])"
   ]
  },
  {
   "cell_type": "code",
   "execution_count": 21,
   "metadata": {},
   "outputs": [
    {
     "name": "stdout",
     "output_type": "stream",
     "text": [
      "page_content='The fox and the dog play fetch.'\n",
      "page_content='The dog barks at the fox.'\n",
      "page_content='The fox runs away from the dog.'\n",
      "page_content='The quick brown fox jumps over the lazy dog.'\n"
     ]
    }
   ],
   "source": [
    "# Query the retriever\n",
    "query = \"what does the fox do?\"\n",
    "results = retriever.invoke(query)\n",
    "\n",
    "# Print the results\n",
    "for result in results:\n",
    "    print(result)"
   ]
  },
  {
   "cell_type": "code",
   "execution_count": 22,
   "metadata": {},
   "outputs": [
    {
     "name": "stdout",
     "output_type": "stream",
     "text": [
      "page_content='The dog barks at the fox.'\n",
      "page_content='The fox and the dog play fetch.'\n",
      "page_content='The quick brown fox jumps over the lazy dog.'\n",
      "page_content='The fox runs away from the dog.'\n"
     ]
    }
   ],
   "source": [
    "query = \"What does the dog do?\"\n",
    "results = retriever.invoke(query)\n",
    "for result in results:\n",
    "    print(result)"
   ]
  },
  {
   "cell_type": "code",
   "execution_count": 23,
   "metadata": {},
   "outputs": [
    {
     "name": "stdout",
     "output_type": "stream",
     "text": [
      "page_content='The fox and the dog play fetch.'\n",
      "page_content='The fox and the dog play fetch in the park.'\n",
      "page_content='The fox and the dog play fetch in the park with a ball.'\n",
      "page_content='The quick brown fox jumps over the lazy dog.'\n"
     ]
    }
   ],
   "source": [
    "query = \"Where do the fox and the dog play fetch?\"\n",
    "results = retriever.invoke(query)\n",
    "for result in results:\n",
    "    print(result)"
   ]
  },
  {
   "cell_type": "code",
   "execution_count": 24,
   "metadata": {},
   "outputs": [
    {
     "name": "stdout",
     "output_type": "stream",
     "text": [
      "page_content='The fox and the dog play fetch.'\n",
      "page_content='The dog barks at the fox.'\n",
      "page_content='The fox runs away from the dog.'\n",
      "page_content='The fox and the dog play fetch in the park.'\n"
     ]
    }
   ],
   "source": [
    "query = \"How does the fox react to the dog?\"\n",
    "results = retriever.invoke(query)\n",
    "for result in results:\n",
    "    print(result)"
   ]
  },
  {
   "cell_type": "code",
   "execution_count": 25,
   "metadata": {},
   "outputs": [
    {
     "name": "stdout",
     "output_type": "stream",
     "text": [
      "page_content='The fox and the dog play fetch in the park.'\n",
      "page_content='The fox and the dog play fetch in the park with a ball.'\n",
      "page_content='The fox and the dog play fetch.'\n",
      "page_content='The quick brown fox jumps over the lazy dog.'\n"
     ]
    }
   ],
   "source": [
    "query = \"What happens in the park?\"\n",
    "results = retriever.invoke(query)\n",
    "for result in results:\n",
    "    print(result)"
   ]
  },
  {
   "cell_type": "code",
   "execution_count": 29,
   "metadata": {},
   "outputs": [
    {
     "name": "stdout",
     "output_type": "stream",
     "text": [
      "page_content='The fox and the dog play fetch.'\n",
      "page_content='The dog barks at the fox.'\n",
      "page_content='The quick brown fox jumps over the lazy dog.'\n",
      "page_content='The fox runs away from the dog.'\n"
     ]
    }
   ],
   "source": [
    "query = \"What do the fox and the dog do together?\"\n",
    "results = retriever.invoke(query)\n",
    "for result in results:\n",
    "    print(result)"
   ]
  },
  {
   "cell_type": "code",
   "execution_count": 30,
   "metadata": {},
   "outputs": [
    {
     "name": "stderr",
     "output_type": "stream",
     "text": [
      "100%|██████████| 1/1 [00:01<00:00,  1.50s/it]\n"
     ]
    }
   ],
   "source": [
    "retriever.add_texts([\n",
    "    \"The fox is known for its cunning nature.\",\n",
    "    \"The dog is loyal and protective.\",\n",
    "    \"In the forest, the fox and the dog often cross paths.\"\n",
    "])"
   ]
  },
  {
   "cell_type": "code",
   "execution_count": 31,
   "metadata": {},
   "outputs": [
    {
     "name": "stdout",
     "output_type": "stream",
     "text": [
      "page_content='The fox runs away from the dog.'\n",
      "page_content='The fox and the dog play fetch.'\n",
      "page_content='In the forest, the fox and the dog often cross paths.'\n",
      "page_content='The dog barks at the fox.'\n"
     ]
    }
   ],
   "source": [
    "query = \"Why does the fox run away from the dog?\"\n",
    "results = retriever.invoke(query)\n",
    "for result in results:\n",
    "    print(result)"
   ]
  }
 ],
 "metadata": {
  "kernelspec": {
   "display_name": "Python 3",
   "language": "python",
   "name": "python3"
  },
  "language_info": {
   "codemirror_mode": {
    "name": "ipython",
    "version": 3
   },
   "file_extension": ".py",
   "mimetype": "text/x-python",
   "name": "python",
   "nbconvert_exporter": "python",
   "pygments_lexer": "ipython3",
   "version": "3.10.0"
  }
 },
 "nbformat": 4,
 "nbformat_minor": 2
}
